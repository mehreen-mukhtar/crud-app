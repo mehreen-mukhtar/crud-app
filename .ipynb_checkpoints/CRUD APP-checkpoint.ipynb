{
 "cells": [
  {
   "cell_type": "markdown",
   "id": "0a14f7a5-7025-4507-883d-3be35fb631b2",
   "metadata": {},
   "source": [
    "### CRUDE APP"
   ]
  },
  {
   "cell_type": "code",
   "execution_count": 2,
   "id": "99164dc3-26a6-4608-9748-89a7e1be5152",
   "metadata": {},
   "outputs": [
    {
     "name": "stdout",
     "output_type": "stream",
     "text": [
      "\n",
      " Menu\n",
      "Employee detail\n",
      "1- Add Employee\n",
      "2- View Employee\n",
      "3- Update Employee\n",
      "4- delete Employee\n",
      "5- Exit\n"
     ]
    },
    {
     "name": "stdin",
     "output_type": "stream",
     "text": [
      "Please enter a number 1\n",
      "Please Enter your Name wsa\n",
      "Please Enter your ID 1\n",
      "Please Enter your Age 22\n",
      "Please Enter your Qualification wqe\n",
      "Please Enter your Department qwe\n"
     ]
    },
    {
     "name": "stdout",
     "output_type": "stream",
     "text": [
      "\n",
      " Menu\n",
      "Employee detail\n",
      "1- Add Employee\n",
      "2- View Employee\n",
      "3- Update Employee\n",
      "4- delete Employee\n",
      "5- Exit\n"
     ]
    },
    {
     "name": "stdin",
     "output_type": "stream",
     "text": [
      "Please enter a number 1\n",
      "Please Enter your Name wwwy\n",
      "Please Enter your ID 2\n",
      "Please Enter your Age 23\n",
      "Please Enter your Qualification eds\n",
      "Please Enter your Department wed\n"
     ]
    },
    {
     "name": "stdout",
     "output_type": "stream",
     "text": [
      "\n",
      " Menu\n",
      "Employee detail\n",
      "1- Add Employee\n",
      "2- View Employee\n",
      "3- Update Employee\n",
      "4- delete Employee\n",
      "5- Exit\n"
     ]
    },
    {
     "name": "stdin",
     "output_type": "stream",
     "text": [
      "Please enter a number 2\n"
     ]
    },
    {
     "name": "stdout",
     "output_type": "stream",
     "text": [
      "Name : wsa, ID : 1, Age : 22, Qualification : wqe, Department : qwe\n",
      "Name : wwwy, ID : 2, Age : 23, Qualification : eds, Department : wed\n",
      "\n",
      " Menu\n",
      "Employee detail\n",
      "1- Add Employee\n",
      "2- View Employee\n",
      "3- Update Employee\n",
      "4- delete Employee\n",
      "5- Exit\n"
     ]
    },
    {
     "name": "stdin",
     "output_type": "stream",
     "text": [
      "Please enter a number 4\n",
      "Please Enter your ID 1\n"
     ]
    },
    {
     "name": "stdout",
     "output_type": "stream",
     "text": [
      "delete successful\n",
      "\n",
      " Menu\n",
      "Employee detail\n",
      "1- Add Employee\n",
      "2- View Employee\n",
      "3- Update Employee\n",
      "4- delete Employee\n",
      "5- Exit\n"
     ]
    },
    {
     "name": "stdin",
     "output_type": "stream",
     "text": [
      "Please enter a number 2\n"
     ]
    },
    {
     "name": "stdout",
     "output_type": "stream",
     "text": [
      "Name : wwwy, ID : 2, Age : 23, Qualification : eds, Department : wed\n",
      "\n",
      " Menu\n",
      "Employee detail\n",
      "1- Add Employee\n",
      "2- View Employee\n",
      "3- Update Employee\n",
      "4- delete Employee\n",
      "5- Exit\n"
     ]
    },
    {
     "name": "stdin",
     "output_type": "stream",
     "text": [
      "Please enter a number 5\n"
     ]
    }
   ],
   "source": [
    "#Function to add employees\n",
    "\n",
    "employees = []\n",
    "\n",
    "def add_employees():\n",
    "    employee_name = input(\"Please Enter your Name\")\n",
    "    employee_id = int(input(\"Please Enter your ID\"))\n",
    "    employee_age = int(input(\"Please Enter your Age\"))\n",
    "    employee_Qualification = input(\"Please Enter your Qualification\")\n",
    "    employee_department = input(\"Please Enter your Department\")\n",
    "    employee = {\n",
    "        'name': employee_name,\n",
    "        'ID' : employee_id,\n",
    "        'age' : employee_age,\n",
    "        'qualification' : employee_Qualification,\n",
    "        'department' : employee_department\n",
    "    }\n",
    "    employees.append(employee)\n",
    "\n",
    "\n",
    "\n",
    "##Function to view employees\n",
    "def view_employee_data():\n",
    "    if not employees:\n",
    "        print(\"No employee data is present\")\n",
    "    else:\n",
    "        for i, employee in enumerate(employees , 1):\n",
    "            print(f\"Name : {employee['name']}, ID : {employee['ID']}, Age : {employee['age']}, Qualification : {employee['qualification']}, Department : {employee['department']}\")\n",
    "\n",
    "\n",
    "\n",
    "##Function to update employee's Detail\n",
    "def update_employee():\n",
    "    user_id = int(input(\"Please Enter your ID\"))\n",
    "    for employee in employees:\n",
    "        if employee['ID'] == user_id :\n",
    "            employee['age'] = int(input(\"Please Enter your Age\"))\n",
    "            employee['qualification'] = input(\"Please Enter your Qualification\")\n",
    "            employee['department'] = input(\"Please Enter your Department\")\n",
    "            print(\"Update successfully\")\n",
    "            return\n",
    "            print(\"entered ID number is wrong\")\n",
    "\n",
    "##Function to delete employee\n",
    "def delete_employee():\n",
    "    user_id = int(input(\"Please Enter your ID\"))\n",
    "    for i, employee in enumerate (employees):\n",
    "        if employee['ID'] == user_id:\n",
    "            employees.remove(employee)\n",
    "            print(\"delete successful\")\n",
    "        else:\n",
    "            print(\"{user_id} this user ID is not present\")\n",
    "            \n",
    "\n",
    "#main function\n",
    "while True:\n",
    "    print(\"\\n Menu\")\n",
    "    print(\"Employee detail\")\n",
    "    print(\"1- Add Employee\")\n",
    "    print(\"2- View Employee\")\n",
    "    print(\"3- Update Employee\")\n",
    "    print(\"4- delete Employee\")\n",
    "    print(\"5- Exit\")\n",
    "    \n",
    "    user = int(input(\"Please enter a number\"))\n",
    "    \n",
    "    if user == 1:\n",
    "        add_employees()\n",
    "    elif user == 2:\n",
    "        view_employee_data()\n",
    "    elif user == 3:  \n",
    "        update_employee()\n",
    "    elif user == 4:\n",
    "        delete_employee()\n",
    "    elif user == 5:\n",
    "       break\n",
    "\n",
    "    else :\n",
    "        print(\"Invalide Number\")\n",
    "\n",
    "        \n",
    "\n",
    "\n"
   ]
  },
  {
   "cell_type": "code",
   "execution_count": null,
   "id": "1217b8d9-e014-4ede-a23e-4343a89b07e8",
   "metadata": {},
   "outputs": [],
   "source": []
  }
 ],
 "metadata": {
  "kernelspec": {
   "display_name": "Python 3 (ipykernel)",
   "language": "python",
   "name": "python3"
  },
  "language_info": {
   "codemirror_mode": {
    "name": "ipython",
    "version": 3
   },
   "file_extension": ".py",
   "mimetype": "text/x-python",
   "name": "python",
   "nbconvert_exporter": "python",
   "pygments_lexer": "ipython3",
   "version": "3.12.4"
  }
 },
 "nbformat": 4,
 "nbformat_minor": 5
}
